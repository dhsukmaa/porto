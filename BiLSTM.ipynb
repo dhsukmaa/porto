{
  "cells": [
    {
      "cell_type": "code",
      "execution_count": null,
      "metadata": {
        "id": "yxfwWwMnorx9"
      },
      "outputs": [],
      "source": [
        "import numpy as np\n",
        "import pandas as pd\n",
        "from keras.layers import Dense, Embedding, LSTM, SpatialDropout1D\n",
        "\n",
        "from keras.models import Sequential\n",
        "from keras.preprocessing import sequence\n",
        "from keras.utils import pad_sequences\n",
        "\n",
        "from sklearn.feature_extraction.text import CountVectorizer\n",
        "from keras.preprocessing.text import Tokenizer\n",
        "from sklearn.model_selection import train_test_split\n",
        "from keras.utils.np_utils import to_categorical"
      ]
    },
    {
      "cell_type": "code",
      "execution_count": null,
      "metadata": {
        "id": "R4Hsrqj0oryB",
        "outputId": "098703a3-1dad-42d8-b3a6-3230bf06e6e9"
      },
      "outputs": [
        {
          "data": {
            "text/html": [
              "<div>\n",
              "<style scoped>\n",
              "    .dataframe tbody tr th:only-of-type {\n",
              "        vertical-align: middle;\n",
              "    }\n",
              "\n",
              "    .dataframe tbody tr th {\n",
              "        vertical-align: top;\n",
              "    }\n",
              "\n",
              "    .dataframe thead th {\n",
              "        text-align: right;\n",
              "    }\n",
              "</style>\n",
              "<table border=\"1\" class=\"dataframe\">\n",
              "  <thead>\n",
              "    <tr style=\"text-align: right;\">\n",
              "      <th></th>\n",
              "      <th>label</th>\n",
              "      <th>Tweet</th>\n",
              "    </tr>\n",
              "  </thead>\n",
              "  <tbody>\n",
              "    <tr>\n",
              "      <th>0</th>\n",
              "      <td>6</td>\n",
              "      <td>kontol</td>\n",
              "    </tr>\n",
              "    <tr>\n",
              "      <th>1</th>\n",
              "      <td>6</td>\n",
              "      <td>kontol</td>\n",
              "    </tr>\n",
              "    <tr>\n",
              "      <th>2</th>\n",
              "      <td>4</td>\n",
              "      <td>bgst projects yang kapasitas kerja butuh orang...</td>\n",
              "    </tr>\n",
              "    <tr>\n",
              "      <th>3</th>\n",
              "      <td>6</td>\n",
              "      <td>anjiinggg</td>\n",
              "    </tr>\n",
              "    <tr>\n",
              "      <th>4</th>\n",
              "      <td>3</td>\n",
              "      <td>punya orangtua goblokk tololll sudah pada tua ...</td>\n",
              "    </tr>\n",
              "  </tbody>\n",
              "</table>\n",
              "</div>"
            ],
            "text/plain": [
              "   label                                              Tweet\n",
              "0      6                                             kontol\n",
              "1      6                                             kontol\n",
              "2      4  bgst projects yang kapasitas kerja butuh orang...\n",
              "3      6                                          anjiinggg\n",
              "4      3  punya orangtua goblokk tololll sudah pada tua ..."
            ]
          },
          "execution_count": 3,
          "metadata": {},
          "output_type": "execute_result"
        }
      ],
      "source": [
        "df = pd.read_csv(\"dataset5.csv\", sep=';')\n",
        "df.head()"
      ]
    },
    {
      "cell_type": "code",
      "execution_count": null,
      "metadata": {
        "id": "wZavoGY_oryD",
        "outputId": "374a0e02-b4e1-427f-deed-bbd6a7a4bd8b"
      },
      "outputs": [
        {
          "data": {
            "text/plain": [
              "(17276, 2)"
            ]
          },
          "execution_count": 4,
          "metadata": {},
          "output_type": "execute_result"
        }
      ],
      "source": [
        "df.shape"
      ]
    },
    {
      "cell_type": "code",
      "execution_count": null,
      "metadata": {
        "id": "urWht9e6oryE",
        "outputId": "a4606140-1f51-460a-e7ad-3d0274c1054d"
      },
      "outputs": [
        {
          "data": {
            "text/plain": [
              "6    5681\n",
              "5    5004\n",
              "2    2349\n",
              "3    1922\n",
              "1    1637\n",
              "4     683\n",
              "Name: label, dtype: int64"
            ]
          },
          "execution_count": 5,
          "metadata": {},
          "output_type": "execute_result"
        }
      ],
      "source": [
        "df.label.value_counts()"
      ]
    },
    {
      "cell_type": "code",
      "execution_count": null,
      "metadata": {
        "id": "2VqXysqWoryF",
        "outputId": "048f09ce-7517-4ffe-d7b9-d125fcfa30af"
      },
      "outputs": [
        {
          "name": "stdout",
          "output_type": "stream",
          "text": [
            "Output:\n",
            "label     int64\n",
            "Tweet    object\n",
            "dtype: object\n"
          ]
        }
      ],
      "source": [
        "result = df.dtypes\n",
        "\n",
        "print(\"Output:\")\n",
        "print(result)"
      ]
    },
    {
      "cell_type": "code",
      "execution_count": null,
      "metadata": {
        "id": "_hERKrpnoryG"
      },
      "outputs": [],
      "source": [
        "df[\"label\"] = df[\"label\"].astype(\"Int64\")\n",
        "df[\"Tweet\"] = df[\"Tweet\"].astype(\"str\")"
      ]
    },
    {
      "cell_type": "code",
      "execution_count": null,
      "metadata": {
        "id": "vxjxZunvoryG",
        "outputId": "2268637d-a4ce-4fd6-b501-b879c6477d21"
      },
      "outputs": [
        {
          "name": "stdout",
          "output_type": "stream",
          "text": [
            "<class 'pandas.core.frame.DataFrame'>\n",
            "RangeIndex: 17276 entries, 0 to 17275\n",
            "Data columns (total 2 columns):\n",
            " #   Column  Non-Null Count  Dtype \n",
            "---  ------  --------------  ----- \n",
            " 0   label   17276 non-null  Int64 \n",
            " 1   Tweet   17276 non-null  object\n",
            "dtypes: Int64(1), object(1)\n",
            "memory usage: 286.9+ KB\n"
          ]
        }
      ],
      "source": [
        "df.info()"
      ]
    },
    {
      "cell_type": "code",
      "execution_count": null,
      "metadata": {
        "id": "wIcGmrtnoryH"
      },
      "outputs": [],
      "source": [
        "number_label = 1637\n",
        "\n",
        "shuffled = df.reindex(np.random.permutation(df.index))\n",
        "u = shuffled[shuffled['label'] == 6][:number_label]\n",
        "pp = shuffled[shuffled['label'] == 5][:number_label]\n",
        "pc = shuffled[shuffled['label'] == 2][:number_label]\n",
        "ke = shuffled[shuffled['label'] == 3][:number_label]\n",
        "s = shuffled[shuffled['label'] == 1]\n",
        "ka = shuffled[shuffled['label'] == 4]\n",
        "\n",
        "concate = pd.concat([u, pp, pc, ke, s, ka], ignore_index=True)\n",
        "\n",
        "\n",
        "#Shuffle the dataset\n",
        "concate = concate.reindex(np.random.permutation(concate.index))"
      ]
    },
    {
      "cell_type": "code",
      "execution_count": null,
      "metadata": {
        "id": "jXyPfun9oryH",
        "outputId": "ac26dc6e-18f2-443d-96a7-2269edf2baa6"
      },
      "outputs": [
        {
          "data": {
            "text/plain": [
              "(8868, 2)"
            ]
          },
          "execution_count": 10,
          "metadata": {},
          "output_type": "execute_result"
        }
      ],
      "source": [
        "concate.shape"
      ]
    },
    {
      "cell_type": "code",
      "execution_count": null,
      "metadata": {
        "id": "9J8LDCu8oryI",
        "outputId": "25664c91-a0af-4e9f-dde3-2135074a1b7d"
      },
      "outputs": [
        {
          "data": {
            "text/html": [
              "<div>\n",
              "<style scoped>\n",
              "    .dataframe tbody tr th:only-of-type {\n",
              "        vertical-align: middle;\n",
              "    }\n",
              "\n",
              "    .dataframe tbody tr th {\n",
              "        vertical-align: top;\n",
              "    }\n",
              "\n",
              "    .dataframe thead th {\n",
              "        text-align: right;\n",
              "    }\n",
              "</style>\n",
              "<table border=\"1\" class=\"dataframe\">\n",
              "  <thead>\n",
              "    <tr style=\"text-align: right;\">\n",
              "      <th></th>\n",
              "      <th>label</th>\n",
              "      <th>Tweet</th>\n",
              "    </tr>\n",
              "  </thead>\n",
              "  <tbody>\n",
              "    <tr>\n",
              "      <th>2499</th>\n",
              "      <td>5</td>\n",
              "      <td>gue diam saja banya yang benci alahh sianjng a...</td>\n",
              "    </tr>\n",
              "    <tr>\n",
              "      <th>2174</th>\n",
              "      <td>5</td>\n",
              "      <td>ah bangsat mau kapai lagi deh memek</td>\n",
              "    </tr>\n",
              "    <tr>\n",
              "      <th>4226</th>\n",
              "      <td>2</td>\n",
              "      <td>haaa anjing lo pdkt pas deact twt</td>\n",
              "    </tr>\n",
              "    <tr>\n",
              "      <th>2954</th>\n",
              "      <td>5</td>\n",
              "      <td>smntara mereka harus panas naik motor jauh dar...</td>\n",
              "    </tr>\n",
              "    <tr>\n",
              "      <th>3630</th>\n",
              "      <td>2</td>\n",
              "      <td>kenapa enggak ada yang asih tau kalo dighostin...</td>\n",
              "    </tr>\n",
              "  </tbody>\n",
              "</table>\n",
              "</div>"
            ],
            "text/plain": [
              "      label                                              Tweet\n",
              "2499      5  gue diam saja banya yang benci alahh sianjng a...\n",
              "2174      5                ah bangsat mau kapai lagi deh memek\n",
              "4226      2                  haaa anjing lo pdkt pas deact twt\n",
              "2954      5  smntara mereka harus panas naik motor jauh dar...\n",
              "3630      2  kenapa enggak ada yang asih tau kalo dighostin..."
            ]
          },
          "execution_count": 11,
          "metadata": {},
          "output_type": "execute_result"
        }
      ],
      "source": [
        "concate.head()"
      ]
    },
    {
      "cell_type": "markdown",
      "metadata": {
        "id": "iZZ_DGKEoryJ"
      },
      "source": [
        "MAX_NUMBER_WORDS:  Hanya 50,000 kata yang paling umum (yang paling sering muncul) akan diperhitungkan dalam pemrosesan teks. Kata-kata yang kurang umum diabaikan. Parameter ini membantu dalam mengurangi dimensi data teks, sehingga membuat pemrosesan lebih efisien.\n",
        "\n",
        "\n",
        "MAX_SEQ_LENGTH: Setiap teks yang panjangnya melebihi 250 kata akan dipotong atau dibatasi menjadi 250 kata. Untuk menjaga keseragaman panjang teks dalam data, sehingga memudahkan pemrosesan dan analisis."
      ]
    },
    {
      "cell_type": "code",
      "execution_count": null,
      "metadata": {
        "id": "ruCydngdoryL"
      },
      "outputs": [],
      "source": [
        "# The maximum number of words to be used. (most frequent)\n",
        "MAX_NUMBER_WORDS = 50000\n",
        "\n",
        "# Max number of words in each complaint.\n",
        "MAX_SEQ_LENGTH = 250"
      ]
    },
    {
      "cell_type": "markdown",
      "metadata": {
        "id": "WwozXuR-oryL"
      },
      "source": [
        "EMBEDDING_DIMENSION: representasi vektor dari kata-kata yang digunakan dalam model pemrosesan teks. Berarti setiap kata akan direpresentasikan sebagai vektor 64-dimensi."
      ]
    },
    {
      "cell_type": "code",
      "execution_count": null,
      "metadata": {
        "id": "nIb12zzcoryM",
        "outputId": "123b8025-497f-4819-9da6-29143bbaee79"
      },
      "outputs": [
        {
          "name": "stdout",
          "output_type": "stream",
          "text": [
            "Found 10108 unique tokens.\n"
          ]
        }
      ],
      "source": [
        "# This is fixed.\n",
        "\n",
        "EMBEDDING_DIMENSION = 64\n",
        "tokenize_tweet = Tokenizer(num_words=MAX_NUMBER_WORDS, filters='!\"#$%&()*+,-./:;<=>?@[\\]^_`{|}~', lower=True)\n",
        "tokenize_tweet.fit_on_texts(concate['Tweet'].values)\n",
        "word_index = tokenize_tweet.word_index\n",
        "print('Found %s unique tokens.' % len(word_index))"
      ]
    },
    {
      "cell_type": "markdown",
      "metadata": {
        "id": "ieqhg4khoryN"
      },
      "source": [
        "Data dikonversi menjadi representasi angka dan diproses sehingga memiliki panjang yang seragam"
      ]
    },
    {
      "cell_type": "code",
      "execution_count": null,
      "metadata": {
        "id": "XkA7PSv_oryN",
        "outputId": "fe942d04-ea42-434a-9561-e259c4934552"
      },
      "outputs": [
        {
          "name": "stdout",
          "output_type": "stream",
          "text": [
            "Shape of data tensor: (8868, 250)\n"
          ]
        }
      ],
      "source": [
        "# Converting categorical labels to numbers.\n",
        "\n",
        "\n",
        "X = tokenize_tweet.texts_to_sequences(concate['Tweet'].values)\n",
        "X = pad_sequences(X, maxlen=MAX_SEQ_LENGTH)\n",
        "print('Shape of data tensor:', X.shape) # berisi teks yang telah dikonversi menjadi urutan angka sesuai dengan kamus kata-kata"
      ]
    },
    {
      "cell_type": "code",
      "execution_count": null,
      "metadata": {
        "id": "YUKZF1GZoryO",
        "outputId": "0fd3186c-123c-4dbf-ce80-32dd982c12eb"
      },
      "outputs": [
        {
          "name": "stdout",
          "output_type": "stream",
          "text": [
            "Shape of label tensor: (8868, 6)\n"
          ]
        }
      ],
      "source": [
        "# Converting categorical labels to numbers.\n",
        "\n",
        "\n",
        "Y = pd.get_dummies(concate['label']).values\n",
        "print('Shape of label tensor:', Y.shape) #berisi representasi one-hot encoding dari label kategori."
      ]
    },
    {
      "cell_type": "code",
      "execution_count": null,
      "metadata": {
        "id": "orTe6kvWoryO",
        "outputId": "09c1bbc5-e2d0-49c6-978f-544078335b91"
      },
      "outputs": [
        {
          "name": "stdout",
          "output_type": "stream",
          "text": [
            "(7981, 250) (7981, 6)\n",
            "(887, 250) (887, 6)\n"
          ]
        }
      ],
      "source": [
        "# Train test split.\n",
        "\n",
        "\n",
        "X_train, X_test, Y_train, Y_test = train_test_split(X,Y, test_size = 0.10, random_state = 42)\n",
        "print(X_train.shape,Y_train.shape)\n",
        "print(X_test.shape,Y_test.shape)"
      ]
    },
    {
      "cell_type": "code",
      "execution_count": null,
      "metadata": {
        "id": "Hx5iJ0OAoryP"
      },
      "outputs": [],
      "source": [
        "import tensorflow as tf\n",
        "import matplotlib.pyplot as plt\n",
        "from nltk.tokenize import word_tokenize\n",
        "\n",
        "from tqdm import tqdm\n",
        "\n",
        "from keras.layers import LSTM, GRU\n",
        "from keras.layers.core import Dense, Activation, Dropout\n",
        "from keras.layers import Embedding\n",
        "from tensorflow.keras.layers import (\n",
        "    BatchNormalization, SeparableConv2D, MaxPooling2D, Activation, Flatten, Dropout, Dense)\n",
        "from keras.utils import np_utils\n",
        "from keras.layers import GlobalMaxPooling1D, Conv1D, MaxPooling1D, Flatten, Bidirectional, SpatialDropout1D\n",
        "from sklearn.model_selection import train_test_split\n",
        "from keras.preprocessing import sequence\n",
        "from keras.preprocessing.text import Tokenizer\n",
        "from keras.models import Sequential\n",
        "from keras.utils import pad_sequences\n",
        "from keras.callbacks import EarlyStopping"
      ]
    },
    {
      "cell_type": "markdown",
      "metadata": {
        "id": "nUQgigHvoryQ"
      },
      "source": [
        "8 lapisan yang terdiri dari lapisan embedding, spatial dropout, bidirectional LSTM, dense, dropout, dense, dropout, dan softmax activation. Model ini digunakan untuk tugas klasifikasi teks dengan 6 kelas yang berbeda."
      ]
    },
    {
      "cell_type": "code",
      "execution_count": null,
      "metadata": {
        "id": "nxwhuzYgoryQ",
        "outputId": "9a955472-5c77-4d14-e27b-c315012a4f73"
      },
      "outputs": [
        {
          "name": "stdout",
          "output_type": "stream",
          "text": [
            "Epoch 1/10\n",
            "113/113 [==============================] - 262s 2s/step - loss: 1.6390 - accuracy: 0.2814 - val_loss: 1.5011 - val_accuracy: 0.3830\n",
            "Epoch 2/10\n",
            "113/113 [==============================] - 238s 2s/step - loss: 1.4688 - accuracy: 0.3779 - val_loss: 1.1719 - val_accuracy: 0.5732\n",
            "Epoch 3/10\n",
            "113/113 [==============================] - 227s 2s/step - loss: 1.1102 - accuracy: 0.5673 - val_loss: 0.8187 - val_accuracy: 0.7284\n",
            "Epoch 4/10\n",
            "113/113 [==============================] - 258s 2s/step - loss: 0.8423 - accuracy: 0.6884 - val_loss: 0.7171 - val_accuracy: 0.7797\n",
            "Epoch 5/10\n",
            "113/113 [==============================] - 244s 2s/step - loss: 0.7096 - accuracy: 0.7406 - val_loss: 0.6844 - val_accuracy: 0.7947\n",
            "Epoch 6/10\n",
            "113/113 [==============================] - 227s 2s/step - loss: 0.6165 - accuracy: 0.7620 - val_loss: 0.6502 - val_accuracy: 0.8098\n",
            "Epoch 7/10\n",
            "113/113 [==============================] - 238s 2s/step - loss: 0.5473 - accuracy: 0.7817 - val_loss: 0.7033 - val_accuracy: 0.8035\n",
            "Epoch 8/10\n",
            "113/113 [==============================] - 310s 3s/step - loss: 0.5076 - accuracy: 0.7911 - val_loss: 0.7368 - val_accuracy: 0.7947\n",
            "Epoch 9/10\n",
            "113/113 [==============================] - 286s 3s/step - loss: 0.4723 - accuracy: 0.8033 - val_loss: 0.7677 - val_accuracy: 0.7935\n"
          ]
        }
      ],
      "source": [
        "epochs = 10\n",
        "batch_size = 64\n",
        "\n",
        "\n",
        "model = Sequential() # inisialisasi model Sequential\n",
        "model.add(Embedding(MAX_NUMBER_WORDS,\n",
        "                    EMBEDDING_DIMENSION,\n",
        "                    input_length=X.shape[1])) # Lapisan embedding digunakan untuk mengkonversi urutan angka (representasi kata) menjadi vektor embedding\n",
        "model.add(SpatialDropout1D(0.4)) # membantu dalam mencegah overfitting dengan secara acak menonaktifkan sebagian unit\n",
        "model.add(Bidirectional(LSTM(EMBEDDING_DIMENSION,\n",
        "                             dropout=0.1,\n",
        "                             recurrent_dropout=0.1))) #\"Bidirectional mengindikasikan bahwa LSTM digunakan dalam dua arah, yaitu dari masa lalu ke masa depan dan sebaliknya.\n",
        "model.add(Dense(EMBEDDING_DIMENSION, activation='relu')) #Lapisan ini digunakan untuk memproses hasil dari lapisan sebelumnya dan melakukan transformasi linear terhadapnya\n",
        "model.add(Dropout(0.2))\n",
        "model.add(Dense(6)) #lapisan output yang akan menghasilkan output klasifikasi untuk 6 kelas yang berbeda\n",
        "model.add(Dropout(0.3))\n",
        "model.add(Activation('softmax')) #menghasilkan probabilitas kelas-kelas yang mungkin dalam tugas klasifikasi.\n",
        "model.compile(loss='categorical_crossentropy',\n",
        "              optimizer='adam', metrics=['accuracy'])\n",
        "\n",
        "history = model.fit(X_train,\n",
        "                    Y_train,\n",
        "                    epochs=epochs,\n",
        "                    batch_size=batch_size,\n",
        "                    validation_split=0.1,\n",
        "                    callbacks=[EarlyStopping(monitor='val_loss', patience=3, min_delta=0.0001)])"
      ]
    },
    {
      "cell_type": "code",
      "execution_count": null,
      "metadata": {
        "id": "6FMT4yUKoryR",
        "outputId": "d22b2416-5028-4169-d816-35fafc146cb2"
      },
      "outputs": [
        {
          "name": "stdout",
          "output_type": "stream",
          "text": [
            "Model: \"sequential\"\n",
            "_________________________________________________________________\n",
            " Layer (type)                Output Shape              Param #   \n",
            "=================================================================\n",
            " embedding (Embedding)       (None, 250, 64)           3200000   \n",
            "                                                                 \n",
            " spatial_dropout1d (SpatialD  (None, 250, 64)          0         \n",
            " ropout1D)                                                       \n",
            "                                                                 \n",
            " bidirectional (Bidirectiona  (None, 128)              66048     \n",
            " l)                                                              \n",
            "                                                                 \n",
            " dense (Dense)               (None, 64)                8256      \n",
            "                                                                 \n",
            " dropout (Dropout)           (None, 64)                0         \n",
            "                                                                 \n",
            " dense_1 (Dense)             (None, 6)                 390       \n",
            "                                                                 \n",
            " dropout_1 (Dropout)         (None, 6)                 0         \n",
            "                                                                 \n",
            " activation (Activation)     (None, 6)                 0         \n",
            "                                                                 \n",
            "=================================================================\n",
            "Total params: 3,274,694\n",
            "Trainable params: 3,274,694\n",
            "Non-trainable params: 0\n",
            "_________________________________________________________________\n"
          ]
        }
      ],
      "source": [
        "model.summary()"
      ]
    },
    {
      "cell_type": "code",
      "execution_count": null,
      "metadata": {
        "id": "0rRX3kLsoryR",
        "outputId": "15e28d25-81d1-4ff8-ef1d-69289bc5e779"
      },
      "outputs": [
        {
          "name": "stdout",
          "output_type": "stream",
          "text": [
            "28/28 [==============================] - 3s 101ms/step - loss: 0.6939 - accuracy: 0.8005\n",
            "Test set\n",
            "  Loss: 0.694\n",
            "  Accuracy: 0.800\n"
          ]
        }
      ],
      "source": [
        "accuracy_model = model.evaluate(X_test,Y_test)\n",
        "print('Test set\\n  Loss: {:0.3f}\\n  Accuracy: {:0.3f}'.format(accuracy_model[0],accuracy_model[1]))"
      ]
    },
    {
      "cell_type": "code",
      "execution_count": null,
      "metadata": {
        "id": "F63hBhsGoryS",
        "outputId": "a29efe4a-e1e8-4181-9ef8-59b8ae1bf2d9"
      },
      "outputs": [
        {
          "data": {
            "image/png": "[encoded data removed]",
            "text/plain": [
              "<Figure size 640x480 with 1 Axes>"
            ]
          },
          "metadata": {},
          "output_type": "display_data"
        }
      ],
      "source": [
        "import matplotlib.pyplot as plt\n",
        "%matplotlib inline\n",
        "\n",
        "plt.title('Loss')\n",
        "plt.plot(history.history['loss'], label='train')\n",
        "plt.plot(history.history['val_loss'], label='test')\n",
        "plt.legend()\n",
        "plt.show();"
      ]
    },
    {
      "cell_type": "code",
      "execution_count": null,
      "metadata": {
        "id": "7hMZTyCDoryS",
        "outputId": "55c1e5ca-394b-421a-b518-9e6a9faf3610"
      },
      "outputs": [
        {
          "data": {
            "image/png": "[encoded data removed]",
            "text/plain": [
              "<Figure size 640x480 with 1 Axes>"
            ]
          },
          "metadata": {},
          "output_type": "display_data"
        }
      ],
      "source": [
        "plt.title('Accuracy')\n",
        "plt.plot(history.history['accuracy'], label='train')\n",
        "plt.plot(history.history['val_accuracy'], label='test')\n",
        "plt.legend()\n",
        "plt.show();"
      ]
    },
    {
      "cell_type": "code",
      "execution_count": null,
      "metadata": {
        "id": "QNaunU7SoryT",
        "outputId": "9b57d08f-bc60-4913-b87c-d58dd3f92a2a"
      },
      "outputs": [
        {
          "name": "stdout",
          "output_type": "stream",
          "text": [
            "1/1 [==============================] - 2s 2s/step\n",
            "[[2.4690371e-04 2.6167964e-04 9.9887305e-01 1.3238723e-04 4.0556723e-04\n",
            "  8.0320046e-05]] Keluarga\n"
          ]
        }
      ],
      "source": [
        "tweet_percobaan = ['CAPE BGT PUNYA KELUARGA ISINYA ORANG KAYAK KONTOL SEMUA']\n",
        "sequence = tokenize_tweet.texts_to_sequences(tweet_percobaan)\n",
        "padded = pad_sequences(sequence, maxlen=MAX_SEQ_LENGTH)\n",
        "prediction_tweet = model.predict(padded)\n",
        "labels = ['Studi','Percintaan','Keluarga','Karir/Pekerjaan','Person/Personal','Umpatan']\n",
        "print(prediction_tweet, labels[np.argmax(prediction_tweet)])"
      ]
    },
    {
      "cell_type": "code",
      "execution_count": null,
      "metadata": {
        "id": "iFUeAJfroryT"
      },
      "outputs": [],
      "source": [
        "# Confusion matrix\n",
        "\n",
        "from sklearn.metrics import classification_report, confusion_matrix, accuracy_score\n",
        "import seaborn as sns\n",
        "\n",
        "# classification report\n",
        "def c_report(y_true, y_pred):\n",
        "   print(\"Classification Report\")\n",
        "   print(classification_report(y_true, y_pred)) #laporan klasifikasi yang mencakup metrik-metrik seperti presisi (precision), recall, f1-score,\n",
        "   acc_sc = accuracy_score(y_true, y_pred) #menghitung akurasi model.\n",
        "   print(\"Accuracy : \"+ str(acc_sc))\n",
        "   return acc_sc\n",
        "\n",
        "#Visualisai matriks konfusi\n",
        "def plot_confusion_matrix(y_true, y_pred):\n",
        "   mtx = confusion_matrix(y_true, y_pred)\n",
        "   sns.heatmap(mtx, annot=True, fmt='d', linewidths=.5,\n",
        "               cmap=\"Blues\", cbar=False)\n",
        "   plt.ylabel('True label')\n",
        "   plt.xlabel('Predicted label')"
      ]
    },
    {
      "cell_type": "code",
      "execution_count": null,
      "metadata": {
        "id": "CXvnSyyHoryU",
        "outputId": "42410bc8-08bf-4ba1-f8b9-400272b55def"
      },
      "outputs": [
        {
          "name": "stdout",
          "output_type": "stream",
          "text": [
            "28/28 [==============================] - 3s 108ms/step\n"
          ]
        }
      ],
      "source": [
        "preds = (model.predict(X_test) > 0.5).astype(\"int32\")"
      ]
    },
    {
      "cell_type": "code",
      "execution_count": null,
      "metadata": {
        "id": "Tw6corF2oryV",
        "outputId": "d677725d-bc53-4e07-8b4a-c3d65bdb3870"
      },
      "outputs": [
        {
          "name": "stdout",
          "output_type": "stream",
          "text": [
            "Classification Report\n",
            "              precision    recall  f1-score   support\n",
            "\n",
            "           0       0.92      0.85      0.88       153\n",
            "           1       0.85      0.80      0.83       153\n",
            "           2       0.87      0.84      0.86       178\n",
            "           3       0.82      0.72      0.77        71\n",
            "           4       0.64      0.65      0.65       168\n",
            "           5       0.87      0.79      0.83       164\n",
            "\n",
            "   micro avg       0.82      0.78      0.80       887\n",
            "   macro avg       0.83      0.78      0.80       887\n",
            "weighted avg       0.83      0.78      0.80       887\n",
            " samples avg       0.78      0.78      0.78       887\n",
            "\n",
            "Accuracy : 0.7824126268320181\n"
          ]
        },
        {
          "name": "stderr",
          "output_type": "stream",
          "text": [
            "c:\\Users\\ASUS\\AppData\\Local\\Programs\\Python\\Python310\\lib\\site-packages\\sklearn\\metrics\\_classification.py:1344: UndefinedMetricWarning: Precision and F-score are ill-defined and being set to 0.0 in samples with no predicted labels. Use `zero_division` parameter to control this behavior.\n",
            "  _warn_prf(average, modifier, msg_start, len(result))\n"
          ]
        },
        {
          "data": {
            "text/plain": [
              "0.7824126268320181"
            ]
          },
          "execution_count": 26,
          "metadata": {},
          "output_type": "execute_result"
        }
      ],
      "source": [
        "c_report(Y_test, preds)"
      ]
    },
    {
      "cell_type": "code",
      "execution_count": null,
      "metadata": {
        "id": "t-cFCbV-oryV",
        "outputId": "80ec9132-f522-4a81-b3e4-7a08e98a4207"
      },
      "outputs": [
        {
          "data": {
            "image/png": "[encoded data removed]",
            "text/plain": [
              "<Figure size 640x480 with 1 Axes>"
            ]
          },
          "metadata": {},
          "output_type": "display_data"
        }
      ],
      "source": [
        "plot_confusion_matrix(Y_test.argmax(axis=1), preds.argmax(axis=1))"
      ]
    }
  ],
  "metadata": {
    "kernelspec": {
      "display_name": "Python 3",
      "language": "python",
      "name": "python3"
    },
    "language_info": {
      "codemirror_mode": {
        "name": "ipython",
        "version": 3
      },
      "file_extension": ".py",
      "mimetype": "text/x-python",
      "name": "python",
      "nbconvert_exporter": "python",
      "pygments_lexer": "ipython3",
      "version": "3.10.8"
    },
    "orig_nbformat": 4,
    "colab": {
      "provenance": []
    }
  },
  "nbformat": 4,
  "nbformat_minor": 0
}